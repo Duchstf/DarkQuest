{
 "cells": [
  {
   "cell_type": "code",
   "execution_count": 1,
   "id": "proud-nature",
   "metadata": {},
   "outputs": [],
   "source": [
    "import uproot4\n",
    "import numpy as np\n",
    "import numba\n",
    "import awkward as ak\n",
    "from scipy.stats import norm\n",
    "from scipy.optimize import curve_fit\n",
    "from coffea import hist\n",
    "from coffea.processor import defaultdict_accumulator\n",
    "import os\n",
    "import copy\n",
    "\n",
    "import optparse\n",
    "import importlib\n",
    "import pathlib\n",
    "\n",
    "%matplotlib inline\n",
    "import matplotlib.pyplot as plt\n",
    "import matplotlib.colors as colors\n",
    "import mplhep as hep\n",
    "plt.style.use(hep.style.ROOT)\n",
    "\n",
    "#Just to efficiently save plots\n",
    "plot_dir = \"/u/gu/dhoang/ldmx_plot/\"\n",
    "from datetime import datetime\n",
    "now = datetime.now()\n",
    "dt_string = now.strftime(\"%d-%m-%Y\")"
   ]
  },
  {
   "cell_type": "markdown",
   "id": "early-traffic",
   "metadata": {},
   "source": [
    "## 1. Data Loading"
   ]
  },
  {
   "cell_type": "code",
   "execution_count": 2,
   "id": "conservative-westminster",
   "metadata": {},
   "outputs": [],
   "source": [
    "def getData(fname=\"\", treeName=\"Truth\"):\n",
    "    dq_dict = uproot4.lazy(fname+\":\"+treeName)\n",
    "    dq_events = ak.zip({\n",
    "                        \"GenVertex\": ak.zip({\n",
    "                                            \"vx\": dq_dict[\"gvx\"],\n",
    "                                            \"vy\": dq_dict[\"gvy\"],\n",
    "                                            \"vz\": dq_dict[\"gvz\"],\n",
    "\n",
    "                        }),\n",
    "                        \"GenP_St1\": ak.zip({\n",
    "                                            \"px\": dq_dict[\"gpx_st1\"],\n",
    "                                            \"py\": dq_dict[\"gpy_st1\"],\n",
    "                                            \"pz\": dq_dict[\"gpz_st1\"],\n",
    "                        }),\n",
    "#                         \"Track_St1\": ak.zip({\n",
    "#                                             \"px\": dq_dict[\"track_px_st1\"],\n",
    "#                                             \"py\": dq_dict[\"track_py_st1\"],\n",
    "#                                             \"pz\": dq_dict[\"track_pz_st1\"],\n",
    "#                         }),\n",
    "                       }, depth_limit=1)\n",
    "    return dq_events"
   ]
  }
 ],
 "metadata": {
  "kernelspec": {
   "display_name": "Python 3",
   "language": "python",
   "name": "python3"
  },
  "language_info": {
   "codemirror_mode": {
    "name": "ipython",
    "version": 3
   },
   "file_extension": ".py",
   "mimetype": "text/x-python",
   "name": "python",
   "nbconvert_exporter": "python",
   "pygments_lexer": "ipython3",
   "version": "3.8.3"
  }
 },
 "nbformat": 4,
 "nbformat_minor": 5
}
